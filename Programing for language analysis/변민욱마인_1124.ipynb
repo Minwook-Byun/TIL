items = []			       

def insert(pos, elem) :		
   items.insert(pos, elem)	

def delete(pos) :		   
   items.pop(pos)		   

def getEntry(pos): return items[pos]	

def isEmpty( ):
    if len(items) == 0 :
        return True		
    else :				
        return False	



def size( ):	    return len(items)	
def clear( ):      items = []		       

def find(item) : return items.index(item)	
def replace(pos, elem): items[pos] = elem	
def sort() : items.sort()			
def merge(lst) : items.extend(lst)	

def display(msg='ArrayList:' ):		
    print(msg, size(), items)		

