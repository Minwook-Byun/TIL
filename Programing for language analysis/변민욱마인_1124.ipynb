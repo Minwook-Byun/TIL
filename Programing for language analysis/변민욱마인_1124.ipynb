{
 "cells": [
  {
   "cell_type": "code",
   "execution_count": 21,
   "metadata": {},
   "outputs": [
    {
     "name": "stdout",
     "output_type": "stream",
     "text": [
      "파이썬 리스트로 구현한 리스트 테스트 0 []\n",
      "파이썬 리스트로 구현한 List(삽입x5):  5 [20, 30, 50, 10, 40]\n",
      "파이썬 리스트로 구현한 List(정렬후):  5 [10, 20, 30, 40, 50]\n",
      "파이썬 리스트로 구현한 List(교체x1):  5 [10, 20, 90, 40, 50]\n",
      "파이썬 리스트로 구현한 List(삭제x3):  2 [20, 40]\n",
      "파이썬 리스트로 구현한 List(병합+3):  5 [20, 40, 1, 2, 3]\n",
      "파이썬 리스트로 구현한 List(정리후):  0 []\n"
     ]
    }
   ],
   "source": [
    "items = []\t\t\t       \n",
    "\n",
    "def insert(pos, elem) :\t\t\n",
    "   items.insert(pos, elem)\t\n",
    "\n",
    "def delete(pos) :\t\t   \n",
    "   items.pop(pos)\t\t   \n",
    "\n",
    "def getEntry(pos): return items[pos]\t\n",
    "# def isEmpty( ):\n",
    "#     if len(items) == 0 :\n",
    "#         return True\t\t\n",
    "#     else :\t\t\t\t\n",
    "#         return False\t\n",
    "\n",
    "# #def isEmpty( ): return len(items) == 0\t\n",
    "def clear( ): \n",
    "    global items\n",
    "    items = []\n",
    "def size( ):\t    \n",
    "    return len(items)     \n",
    "def replace(pos, elem): items[pos] = elem\t\n",
    "def sort() : items.sort()\t\t\t\n",
    "def merge(lst) : items.extend(lst)\t\n",
    "def display(msg='ArrayList:' ):\t\t\n",
    "    print(msg, size(), items)\t\t\n",
    "\n",
    "\n",
    "display('파이썬 리스트로 구현한 리스트 테스트')\n",
    "insert(0, 10);  insert(0, 20); insert(1,30); \n",
    "insert(size(),40); insert(2,50)\n",
    "display(\"파이썬 리스트로 구현한 List(삽입x5): \")\n",
    "sort()\n",
    "display(\"파이썬 리스트로 구현한 List(정렬후): \")\n",
    "replace(2, 90)\n",
    "display(\"파이썬 리스트로 구현한 List(교체x1): \")\n",
    "delete(2);\tdelete(size() - 1);\tdelete(0)\n",
    "display(\"파이썬 리스트로 구현한 List(삭제x3): \")\n",
    "lst = [ 1, 2, 3 ]\n",
    "merge(lst)\n",
    "display(\"파이썬 리스트로 구현한 List(병합+3): \")\n",
    "clear()\n",
    "display(\"파이썬 리스트로 구현한 List(정리후): \")\n"
   ]
  },
  {
   "cell_type": "code",
   "execution_count": 2,
   "metadata": {},
   "outputs": [
    {
     "name": "stdout",
     "output_type": "stream",
     "text": [
      "파이썬 리스트로 구현한 리스트 테스트 0 []\n",
      "파이썬 리스트로 구현한 List(삽입x5):  5 [20, 30, 50, 10, 40]\n",
      "파이썬 리스트로 구현한 List(정렬후):  5 [10, 20, 30, 40, 50]\n",
      "파이썬 리스트로 구현한 List(교체x1):  5 [10, 20, 90, 40, 50]\n",
      "파이썬 리스트로 구현한 List(삭제x3):  2 [20, 40]\n",
      "파이썬 리스트로 구현한 List(병합+3):  5 [20, 40, 1, 2, 3]\n",
      "파이썬 리스트로 구현한 List(정리후):  0 []\n"
     ]
    }
   ],
   "source": [
    "class ArrayList:\t\t  \n",
    "    def __init__( self ):\n",
    "        self.items = []\t\t\n",
    "\n",
    "    def insert(self, pos, elem) :\n",
    "        self.items.insert(pos, elem)\n",
    "    def delete(self, pos) :\n",
    "        self.items.pop(pos)\n",
    "    def isEmpty( self ):\n",
    "        return self.size() == 0\n",
    "    def getEntry(self, pos) :\n",
    "        return self.items[pos]\n",
    "    def size( self ):\n",
    "        return len(self.items)\n",
    "    def clear( self ) :\n",
    "        self.items = []\t\n",
    "    def find(self, item) :\n",
    "        return self.items.index(item)\n",
    "    def replace(self, pos, elem) :\n",
    "        self.items[pos] = elem\n",
    "    def sort(self) :\n",
    "        self.items.sort()\n",
    "    def merge(self, lst) :\n",
    "        self.items.extend(lst)\n",
    "    def display(self, msg='ArrayList:' ):\n",
    "        print(msg, self.size(), self.items)\n",
    "        \n",
    "\n",
    "s = ArrayList()\n",
    "s.display('파이썬 리스트로 구현한 리스트 테스트')\n",
    "s.insert(0, 10);\t\ts.insert(0, 20);     s.insert(1, 30)\n",
    "s.insert(s.size(), 40);\t\ts.insert(2, 50)\n",
    "s.display(\"파이썬 리스트로 구현한 List(삽입x5): \")\n",
    "s.sort()\n",
    "s.display(\"파이썬 리스트로 구현한 List(정렬후): \")\n",
    "s.replace(2, 90)\n",
    "s.display(\"파이썬 리스트로 구현한 List(교체x1): \")\n",
    "s.delete(2);\ts.delete(s.size() - 1);\ts.delete(0)\n",
    "s.display(\"파이썬 리스트로 구현한 List(삭제x3): \")\n",
    "lst = [ 1, 2, 3 ]\n",
    "s.merge(lst)\n",
    "s.display(\"파이썬 리스트로 구현한 List(병합+3): \")\n",
    "s.clear()\n",
    "s.display(\"파이썬 리스트로 구현한 List(정리후): \")"
   ]
  }
 ],
 "metadata": {
  "interpreter": {
   "hash": "d350b3f18e75267b0ea07347abc1edba7f8b4ce4f0139cc7560a799b10b44f02"
  },
  "kernelspec": {
   "display_name": "Python 3.9.2 64-bit (system)",
   "language": "python",
   "name": "python3"
  },
  "language_info": {
   "codemirror_mode": {
    "name": "ipython",
    "version": 3
   },
   "file_extension": ".py",
   "mimetype": "text/x-python",
   "name": "python",
   "nbconvert_exporter": "python",
   "pygments_lexer": "ipython3",
   "version": "3.9.2"
  },
  "orig_nbformat": 4
 },
 "nbformat": 4,
 "nbformat_minor": 2
}
