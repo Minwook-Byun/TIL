{
 "cells": [
  {
   "cell_type": "code",
   "execution_count": 20,
   "metadata": {},
   "outputs": [
    {
     "name": "stdout",
     "output_type": "stream",
     "text": [
      "3.0\n",
      "(3,)\n",
      "(2, 3)\n",
      "[[1 3 5]\n",
      " [2 4 6]]\n",
      "[[1. 1. 1. 1.]\n",
      " [1. 1. 1. 1.]\n",
      " [1. 1. 1. 1.]]\n",
      "1번 index:  [2 4 6]\n",
      "1번 index 평균: 4.0\n",
      "전체 평균: 3.5\n",
      "(2, 3)\n",
      "2\n",
      "[3 2 6]\n",
      "<class 'numpy.ufunc'>\n",
      "[1.41421356 1.73205081 2.        ]\n"
     ]
    }
   ],
   "source": [
    "import numpy as np # 모듈 가져오기\n",
    "x = np.array([1,3,5]) #파이썬의 데이터형을 Numpy 형식으로 변환 \n",
    "print(x.mean()) #평균 기능 수행 \n",
    "\n",
    "print(x.shape) #shape는 해당 클래스에서 제공해주는 어트리뷰트이다. 1차원 배열로 3개의 원소가 있다는 결과가 나온다. \n",
    "\n",
    "# 2차원 배열을 만들어보자 \n",
    "x = np.array([[1,3,5],[2,4,6]]) #2개의 원소를 가지고 있으며, 이들은 각각 3개의 원소를 가지고 있다. []로 한 번 더 감싸야 해!\n",
    "print(x.shape)\n",
    "\n",
    "x = np.array([1,3,5,2,4,6]).reshape(2,3) #reshape메소드를 추가하면 다음과 같이 Numpy의 2차원 배열을 원하는 모양으로 생성할 수 있다. \n",
    "print(x)\n",
    "\n",
    "#Numphy형식의 2차원 배열을 1의 값들로 채우려면 다음과 같이 실행하면 된다'\n",
    "y = np.ones([3,4])\n",
    "print(y)\n",
    "\n",
    "# 예제 \n",
    "z = np.array([[1,3,5], [2,4,6]])\n",
    "print(\"1번 index: \",x[1]) \n",
    "print(\"1번 index 평균:\",x[1].mean())\n",
    "print(\"전체 평균:\",x.mean()) \n",
    "print(x.shape)\n",
    "\n",
    "# quiz \n",
    "list1 = np.array([[1,3],[5, 2],[4,6]]) #2차원의 것을 Numpy 형식으로 변환 후 실행해주면 된다 (안하면 당연히 오류)\n",
    "print(list1[1][1]) #index 1의 원소의 1번 원소\n",
    "print(list1[:,1]) #모든 것(:)의 1번째 원소를 출력 [3 2 6]\n",
    "\n",
    "# 루트 \n",
    "print(type(np.sqrt)) #<class 'numpy.ufunc'>\n",
    "print(np.sqrt([2,3,4])) #[1.41421356 1.73205081 2.        ] 자리는 미리 할당은 다 해놨다"
   ]
  },
  {
   "cell_type": "markdown",
   "metadata": {},
   "source": [
    "### 제로 벡터와 제로 행렬 \n"
   ]
  },
  {
   "cell_type": "code",
   "execution_count": 25,
   "metadata": {},
   "outputs": [
    {
     "data": {
      "text/plain": [
       "array([[4., 4., 4., 4., 4.],\n",
       "       [4., 4., 4., 4., 4.],\n",
       "       [4., 4., 4., 4., 4.]])"
      ]
     },
     "execution_count": 25,
     "metadata": {},
     "output_type": "execute_result"
    }
   ],
   "source": [
    "zero_matrix = np.zeros((5,3))\n",
    "zero_matrix += 4 \n",
    "#array([[4., 4., 4.],\n",
    "       #[4., 4., 4.],\n",
    "       #[4., 4., 4.],\n",
    "       #[4., 4., 4.],\n",
    "       #[4., 4., 4.]])\n",
    "       \n",
    "zero_matrix.reshape(3,5)\n",
    "#array([[4., 4., 4., 4., 4.],\n",
    "      # [4., 4., 4., 4., 4.],\n",
    "      # [4., 4., 4., 4., 4.]])\n",
    "      "
   ]
  },
  {
   "cell_type": "markdown",
   "metadata": {},
   "source": [
    "### 전치 행렬\n",
    "은 행과 열을 교환하여 얻어지는 행렬을 말하며 아래 그림과 같이 행렬의 값들을 주 대각선을 기준으로 위치를 바꾼 행렬을 의미한다"
   ]
  },
  {
   "cell_type": "markdown",
   "metadata": {},
   "source": [
    "# 사칙연산?\n"
   ]
  },
  {
   "cell_type": "code",
   "execution_count": 35,
   "metadata": {},
   "outputs": [
    {
     "name": "stdout",
     "output_type": "stream",
     "text": [
      "[0.5        0.75       0.83333333]\n",
      "[11 13 15]\n",
      "[  102  1005 10008]\n",
      "[13 32  6]\n",
      "[0.38334115 0.19098678 0.1919045  0.51126493 0.55135029]\n",
      "False\n",
      "True\n"
     ]
    }
   ],
   "source": [
    "x = np.array([1,3,5])\n",
    "y = np.array([2,4,6])\n",
    "print(x/y) #[0.5        0.75       0.83333333]\n",
    "\n",
    "print(x+10) #[11 13 15]\n",
    "\n",
    "x = np.array([[1,2,3], [4,5,6],[7,8,9]])\n",
    "y = np.array([[4,4,100], [5,5,1000],[6,6,10000]])\n",
    "print(x[:,1] + y[:,2]) #[  102  1005 10008]\n",
    "\n",
    "# x = np.array([[1,2,3], [4,5,6], [7,8,9]])\n",
    "# y = np.array([[4,4,100],[6,6,10000]])\n",
    "# print(x[:,1] + y[:,2]) #ValueError        \n",
    "\n",
    "x = np.array([21,13,35,32,4,6])\n",
    "index = [1,3,5]\n",
    "print(x[index]) #[13 32  6]\n",
    "\n",
    "ary = np.random.random(5) #0과 1 사이의 무작위수 생성 \n",
    "print(ary)\n",
    "print(np.all(ary >= 0.3)) #False\n",
    "print(np.any(ary >= 0.3)) #True\n",
    "\n"
   ]
  },
  {
   "cell_type": "markdown",
   "metadata": {},
   "source": [
    "## 등간격 나누기 \n",
    "linspace()"
   ]
  },
  {
   "cell_type": "code",
   "execution_count": 38,
   "metadata": {},
   "outputs": [
    {
     "data": {
      "text/plain": [
       "array([0., 4., 8.])"
      ]
     },
     "execution_count": 38,
     "metadata": {},
     "output_type": "execute_result"
    }
   ],
   "source": [
    "np.linspace(0,12,4) #array([ 0.,  4.,  8., 12.])\n",
    "\n",
    "np.linspace(0,12,4, retstep=True) #(array([ 0.,  4.,  8., 12.]), 4.0)  retstep=True: 샘플 간의 간격을 마지막 값으로 출력\n",
    "np.linspace(0,12,3, endpoint=False) #array([0., 4., 8.])\n"
   ]
  }
 ],
 "metadata": {
  "interpreter": {
   "hash": "d350b3f18e75267b0ea07347abc1edba7f8b4ce4f0139cc7560a799b10b44f02"
  },
  "kernelspec": {
   "display_name": "Python 3.9.2 64-bit (system)",
   "language": "python",
   "name": "python3"
  },
  "language_info": {
   "codemirror_mode": {
    "name": "ipython",
    "version": 3
   },
   "file_extension": ".py",
   "mimetype": "text/x-python",
   "name": "python",
   "nbconvert_exporter": "python",
   "pygments_lexer": "ipython3",
   "version": "3.9.2"
  },
  "orig_nbformat": 4
 },
 "nbformat": 4,
 "nbformat_minor": 2
}
