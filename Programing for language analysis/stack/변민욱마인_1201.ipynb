{
 "cells": [
  {
   "cell_type": "code",
   "execution_count": 8,
   "metadata": {},
   "outputs": [
    {
     "name": "stdout",
     "output_type": "stream",
     "text": [
      "push 5회:  [1, 2, 3, 4, 5]\n",
      "pop() --> 5\n",
      "pop() --> 4\n",
      "pop 2회: [1, 2, 3]\n",
      "push + 2회 [1, 2, 3, '친구1', '친구2']\n",
      "pop() --> 친구2\n",
      "pop 1회: [1, 2, 3, '친구1']\n"
     ]
    }
   ],
   "source": [
    "top = []\n",
    "\n",
    "def isEmpty(): \n",
    "    return len(top) == 0;\n",
    "\n",
    "def push(item):\n",
    "    top.append(item);\n",
    "\n",
    "def pop(): \n",
    "    if not isEmpty():\n",
    "        return top.pop(-1)\n",
    "    \n",
    "def peek():\n",
    "    if not isEmpty():\n",
    "        return top[-1]\n",
    "    \n",
    "def size() : return len(top)\n",
    "def clear():\n",
    "    global top  #top을 전역 변수로\n",
    "    top = []\n",
    "    \n",
    "for i in range(1,6):\n",
    "    push(i)\n",
    "print(\"push 5회: \", top)\n",
    "print(\"pop() -->\", pop())    \n",
    "print(\"pop() -->\", pop())    \n",
    "print(\"pop 2회:\", top)\n",
    "\n",
    "push('친구1')\n",
    "push('친구2')\n",
    "print('push + 2회', top)\n",
    "\n",
    "print(\"pop() -->\", pop())    \n",
    "print(\"pop 1회:\", top)"
   ]
  },
  {
   "cell_type": "code",
   "execution_count": 10,
   "metadata": {},
   "outputs": [
    {
     "ename": "TypeError",
     "evalue": "'method' object is not subscriptable",
     "output_type": "error",
     "traceback": [
      "\u001b[1;31m---------------------------------------------------------------------------\u001b[0m",
      "\u001b[1;31mTypeError\u001b[0m                                 Traceback (most recent call last)",
      "\u001b[1;32m~\\AppData\\Local\\Temp/ipykernel_20236/2856507124.py\u001b[0m in \u001b[0;36m<module>\u001b[1;34m\u001b[0m\n\u001b[0;32m     24\u001b[0m \u001b[1;33m\u001b[0m\u001b[0m\n\u001b[0;32m     25\u001b[0m \u001b[1;32mfor\u001b[0m \u001b[0mi\u001b[0m \u001b[1;32min\u001b[0m \u001b[0mrange\u001b[0m\u001b[1;33m(\u001b[0m\u001b[1;36m10\u001b[0m\u001b[1;33m)\u001b[0m\u001b[1;33m:\u001b[0m\u001b[1;33m\u001b[0m\u001b[1;33m\u001b[0m\u001b[0m\n\u001b[1;32m---> 26\u001b[1;33m     \u001b[1;32mif\u001b[0m \u001b[0mi\u001b[0m\u001b[1;33m%\u001b[0m\u001b[1;36m2\u001b[0m \u001b[1;33m==\u001b[0m \u001b[1;36m0\u001b[0m \u001b[1;33m:\u001b[0m \u001b[0meven\u001b[0m\u001b[1;33m.\u001b[0m\u001b[0mpush\u001b[0m\u001b[1;33m[\u001b[0m\u001b[0mi\u001b[0m\u001b[1;33m]\u001b[0m\u001b[1;33m\u001b[0m\u001b[1;33m\u001b[0m\u001b[0m\n\u001b[0m\u001b[0;32m     27\u001b[0m     \u001b[1;32melse\u001b[0m \u001b[1;33m:\u001b[0m \u001b[0modd\u001b[0m\u001b[1;33m.\u001b[0m\u001b[0mpush\u001b[0m\u001b[1;33m[\u001b[0m\u001b[0mi\u001b[0m\u001b[1;33m]\u001b[0m\u001b[1;33m\u001b[0m\u001b[1;33m\u001b[0m\u001b[0m\n\u001b[0;32m     28\u001b[0m \u001b[1;33m\u001b[0m\u001b[0m\n",
      "\u001b[1;31mTypeError\u001b[0m: 'method' object is not subscriptable"
     ]
    }
   ],
   "source": [
    "class Stack:\n",
    "    def __init__(self): #생성자\n",
    "        self.top = []   #초기화\n",
    "        \n",
    "    def isEmpty(self): return len(self.top) == 0 #비었당\n",
    "    def size(self): return len(self.top) #들었당\n",
    "    def clear(self) : self.top = [] #다시 초기화\n",
    "    \n",
    "    def push(self, item):\n",
    "        self.top.append(item)\n",
    "        \n",
    "    def pop(self):\n",
    "        if not isEmpty():\n",
    "    \t    return self.top.pop(-1)\n",
    "            \n",
    "    def peek(self):\n",
    "        if not isEmpty():\n",
    "    \t    return self.top[-1]\n",
    "     \n",
    "    def __str__(self): return str(self.top[::-1])\n",
    "     \n",
    "odd = Stack()\n",
    "even = Stack()\n",
    "\n",
    "for i in range(10):\n",
    "    if i%2 == 0 : even.push(i)\n",
    "    else : odd.push(i)\n",
    "    \n",
    "print('스택 even push 5회:', even)\n",
    "print('스택 odd push 5회:', odd)\n",
    "for _ in range(2): even.pop()\n",
    "for _ in range(3): odd.pop()\n",
    "print('스택 even 2회 pop 3회',top)"
   ]
  }
 ],
 "metadata": {
  "interpreter": {
   "hash": "d350b3f18e75267b0ea07347abc1edba7f8b4ce4f0139cc7560a799b10b44f02"
  },
  "kernelspec": {
   "display_name": "Python 3.9.2 64-bit (system)",
   "language": "python",
   "name": "python3"
  },
  "language_info": {
   "codemirror_mode": {
    "name": "ipython",
    "version": 3
   },
   "file_extension": ".py",
   "mimetype": "text/x-python",
   "name": "python",
   "nbconvert_exporter": "python",
   "pygments_lexer": "ipython3",
   "version": "3.9.2"
  },
  "orig_nbformat": 4
 },
 "nbformat": 4,
 "nbformat_minor": 2
}
