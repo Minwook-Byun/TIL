{
 "cells": [
  {
   "cell_type": "code",
   "execution_count": 1,
   "metadata": {},
   "outputs": [
    {
     "data": {
      "text/plain": [
       "12"
      ]
     },
     "execution_count": 1,
     "metadata": {},
     "output_type": "execute_result"
    }
   ],
   "source": [
    "3*4"
   ]
  },
  {
   "cell_type": "code",
   "execution_count": 2,
   "metadata": {},
   "outputs": [
    {
     "name": "stdout",
     "output_type": "stream",
     "text": [
      "{'AI': 2, '나는': 2, '인공지능': 1, '로봇': 2, '입니다': 2}\n"
     ]
    }
   ],
   "source": [
    "text = text = \"AI! 나는 인공지능 로봇 입니다. 나는 'AI 로봇' 입니다.\"\n",
    "def max_counts(text):\n",
    "    skips = ['.', ',', ';', ':', \"'\", '!']\n",
    "    \n",
    "    for ch in skips:\n",
    "        text = text.replace(ch, '')\n",
    "    \n",
    "    counts = {}\n",
    "    for i in text.split(' '):\n",
    "        if i in counts:\n",
    "            counts[i] += 1\n",
    "        else:\n",
    "            counts[i] = 1\n",
    "    return counts\n",
    "print(max_counts(text))"
   ]
  },
  {
   "cell_type": "code",
   "execution_count": 3,
   "metadata": {},
   "outputs": [
    {
     "name": "stdout",
     "output_type": "stream",
     "text": [
      "1 : 4 번\n",
      "2 : 3 번\n",
      "3 : 4 번\n",
      "1등:  [1, 3]\n"
     ]
    }
   ],
   "source": [
    "nums  = [1,1,1,2,2,3,2,3,3,3,1]\n",
    "def max_counts(nums):\n",
    "    counts={}\n",
    "    for i in nums:\n",
    "        if i in counts:\n",
    "            counts[i] += 1\n",
    "        else:\n",
    "            counts[i] = 1\n",
    "    return counts\n",
    "counts = max_counts(nums)\n",
    "first = []\n",
    "max_num = max(counts.values())\n",
    "for name, count in counts.items(): #{name, count} 같은 느낌 \n",
    "    print(name, ':', count, '번')\n",
    "    if count == max_num:\n",
    "        first.append(name)\n",
    "print('1등: ', first)"
   ]
  },
  {
   "cell_type": "code",
   "execution_count": 10,
   "metadata": {},
   "outputs": [
    {
     "name": "stdout",
     "output_type": "stream",
     "text": [
      "['보람 010-0000-0000\\n', '보라 010-0000-0000\\n', '파이썬 010-0000-0000\\n', '자바스크립트  010-0000-0000']\n"
     ]
    }
   ],
   "source": [
    "infile = open(\"phones.txt\", \"r\",encoding='UTF8') #UnicodeDecodeError: 'cp949' codec can't decode byte 0xe2 in position 6987 에러 날 때\n",
    "lines = infile.readlines()\n",
    "print(lines)\n"
   ]
  },
  {
   "cell_type": "code",
   "execution_count": 13,
   "metadata": {},
   "outputs": [
    {
     "name": "stdout",
     "output_type": "stream",
     "text": [
      "보람 010-0000-0000\n",
      "\n"
     ]
    }
   ],
   "source": [
    "infile = open(\"phones.txt\", \"r\",encoding='UTF8');\n",
    "lines = infile.readline(); #위에 하나만 \n",
    "print(lines);"
   ]
  },
  {
   "cell_type": "code",
   "execution_count": null,
   "metadata": {},
   "outputs": [],
   "source": [
    "aa = \"py thon fun !\"\n",
    "text =aa.split()"
   ]
  }
 ],
 "metadata": {
  "interpreter": {
   "hash": "d350b3f18e75267b0ea07347abc1edba7f8b4ce4f0139cc7560a799b10b44f02"
  },
  "kernelspec": {
   "display_name": "Python 3.9.2 64-bit (system)",
   "name": "python3"
  },
  "language_info": {
   "codemirror_mode": {
    "name": "ipython",
    "version": 3
   },
   "file_extension": ".py",
   "mimetype": "text/x-python",
   "name": "python",
   "nbconvert_exporter": "python",
   "pygments_lexer": "ipython3",
   "version": "3.9.2"
  },
  "orig_nbformat": 4
 },
 "nbformat": 4,
 "nbformat_minor": 2
}
